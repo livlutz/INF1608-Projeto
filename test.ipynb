{
  "nbformat": 4,
  "nbformat_minor": 0,
  "metadata": {
    "colab": {
      "provenance": [],
      "authorship_tag": "ABX9TyMNw+xIhiDXzA/0h2kkfLPc",
      "include_colab_link": true
    },
    "kernelspec": {
      "name": "python3",
      "display_name": "Python 3"
    },
    "language_info": {
      "name": "python"
    }
  },
  "cells": [
    {
      "cell_type": "markdown",
      "metadata": {
        "id": "view-in-github",
        "colab_type": "text"
      },
      "source": [
        "<a href=\"https://colab.research.google.com/github/livlutz/INF1608-Projeto/blob/colab-test/test.ipynb\" target=\"_parent\"><img src=\"https://colab.research.google.com/assets/colab-badge.svg\" alt=\"Open In Colab\"/></a>"
      ]
    },
    {
      "cell_type": "markdown",
      "source": [
        "INF1608 - Projeto"
      ],
      "metadata": {
        "id": "U3gTCzyMjQUV"
      }
    },
    {
      "cell_type": "markdown",
      "source": [
        "Podemos usar esse notebook para o trabalho, depois que fizermos as mudanças por aqui, podemos passar para o repositório no GitHub para ficar organizado 🙂"
      ],
      "metadata": {
        "id": "do34Z-nyjVec"
      }
    },
    {
      "cell_type": "code",
      "source": [
        "#exemplo de código\n",
        "\n",
        "for i in range (10):\n",
        "  print(i)\n",
        "\n",
        "#para executar só precisa clicar na bolinha branca aqui na lateral esquerda superior"
      ],
      "metadata": {
        "colab": {
          "base_uri": "https://localhost:8080/"
        },
        "id": "x9rw_NdwjTku",
        "outputId": "68b4d27c-270f-45fc-f2f6-4eb570a17a7e"
      },
      "execution_count": 4,
      "outputs": [
        {
          "output_type": "stream",
          "name": "stdout",
          "text": [
            "0\n",
            "1\n",
            "2\n",
            "3\n",
            "4\n",
            "5\n",
            "6\n",
            "7\n",
            "8\n",
            "9\n"
          ]
        }
      ]
    },
    {
      "cell_type": "markdown",
      "source": [
        "**Instruções de como passar pro git** : File > Save a copy in Github > url do git + repositório + branch + path do arquivo do repositório pra salvar > add msg de commit. *Favor verificar se as mudanças foram realmente passadas para o github após isso!!*"
      ],
      "metadata": {
        "id": "rwVojm_aju7V"
      }
    }
  ]
}