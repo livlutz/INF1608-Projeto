{
  "nbformat": 4,
  "nbformat_minor": 0,
  "metadata": {
    "colab": {
      "provenance": [],
      "authorship_tag": "ABX9TyPXsMXu2UdkJsGwKHITZ7rL",
      "include_colab_link": true
    },
    "kernelspec": {
      "name": "python3",
      "display_name": "Python 3"
    },
    "language_info": {
      "name": "python"
    }
  },
  "cells": [
    {
      "cell_type": "markdown",
      "metadata": {
        "id": "view-in-github",
        "colab_type": "text"
      },
      "source": [
        "<a href=\"https://colab.research.google.com/github/livlutz/INF1608-Projeto/blob/colab-test/test.ipynb\" target=\"_parent\"><img src=\"https://colab.research.google.com/assets/colab-badge.svg\" alt=\"Open In Colab\"/></a>"
      ]
    },
    {
      "cell_type": "markdown",
      "source": [
        "INF1608 - Projeto"
      ],
      "metadata": {
        "id": "U3gTCzyMjQUV"
      }
    },
    {
      "cell_type": "markdown",
      "source": [
        "Podemos usar esse notebook para o trabalho, depois que fizermos as mudanças por aqui, podemos passar para o repositório no GitHub para ficar organizado 🙂"
      ],
      "metadata": {
        "id": "do34Z-nyjVec"
      }
    },
    {
      "cell_type": "code",
      "source": [
        "#exemplo de código\n",
        "\n",
        "for i in range (10):\n",
        "  print(i)\n",
        "\n",
        "#para executar só precisa clicar na bolinha branca aqui na lateral esquerda superior"
      ],
      "metadata": {
        "colab": {
          "base_uri": "https://localhost:8080/"
        },
        "id": "x9rw_NdwjTku",
        "outputId": "68b4d27c-270f-45fc-f2f6-4eb570a17a7e"
      },
      "execution_count": null,
      "outputs": [
        {
          "output_type": "stream",
          "name": "stdout",
          "text": [
            "0\n",
            "1\n",
            "2\n",
            "3\n",
            "4\n",
            "5\n",
            "6\n",
            "7\n",
            "8\n",
            "9\n"
          ]
        }
      ]
    },
    {
      "cell_type": "markdown",
      "source": [
        "**Instruções de como passar pro git** : File > Save a copy in Github > url do git + repositório + branch + path do arquivo do repositório pra salvar > add msg de commit. *Favor verificar se as mudanças foram realmente passadas para o github após isso!!*"
      ],
      "metadata": {
        "id": "rwVojm_aju7V"
      }
    },
    {
      "cell_type": "code",
      "source": [
        "#método de runge kutta de ordem 4 adaptativo\n",
        "\n",
        "\"\"\"O objetivo deste trabalho ´e usar o m´etodo Runge-Kutta de ordem 4, com passo adaptativo,\n",
        "para resolver a equa¸c˜ao diferencial original e comparar os resultados com os obtidos atrav´es\n",
        "da simplifica¸c˜ao de lineariza¸c˜ao da express˜ao. Deve-se usar passo adaptativo, limitando o erro\n",
        "local de cada passo em ϵ = 10−5\n",
        ". Pode-se usar a estrat´egia de dobrar o passo ou usar o m´etodo\n",
        "acoplado de Runge-Kutta para avaliar o erro. Numa primeira etapa, deve-se usar passo constante\n",
        "para valida¸c˜ao do sistema.\"\"\"\n",
        "\n",
        "import math\n",
        "\n",
        "def calculaK(t, h, y, f):\n",
        "        k1 = h * f(t, y)\n",
        "        k2 = h * f(t + h / 2, y + k1 / 2)\n",
        "        k3 = h * f(t + h / 2, y + k2 / 2)\n",
        "        k4 = h * f(t + h, y + k3)\n",
        "        return y + (k1 + 2*k2 + 2*k3 + k4) / 6\n",
        "\n",
        "def RungeKuttaAdapt(t0, t1, y0, f, tol):\n",
        "\n",
        "    h = 10.0**-7\n",
        "\n",
        "    while t0 < t1:\n",
        "        h = min(t1 - t0, h)\n",
        "\n",
        "        y1 = calculaK(t0, h, y0, f)\n",
        "\n",
        "        y2 = calculaK(t0, h / 2.0, y0, f)\n",
        "        y2 = calculaK(t0 + h / 2.0, h / 2.0, y2, f)\n",
        "\n",
        "        delta = (y2 - y1) / 15.0\n",
        "        fator = (tol / abs(delta))**(1.0 / 5.0)\n",
        "\n",
        "        if fator >= 1.0:\n",
        "            t0 += h\n",
        "            y2 += delta\n",
        "            y0 = y2\n",
        "            h *= min(1.2, fator)\n",
        "        else:\n",
        "            h *= 0.8 * fator\n",
        "\n",
        "    return y0\n"
      ],
      "metadata": {
        "id": "HCdWE70Ao8FM"
      },
      "execution_count": 1,
      "outputs": []
    },
    {
      "cell_type": "code",
      "source": [
        "\"\"\"Para diferentes valores de θ0, plote o gr´afico de θ × t de um ciclo completo, considerando a\n",
        "solu¸c˜ao num´erica e a solu¸c˜ao anal´ıtica aproximada. Calcule tamb´em o valor do per´ıodo T do\n",
        "ciclo. Confirme que a solu¸c˜ao simplificada s´o ´e uma boa aproxima¸c˜ao para ˆangulos pequenos.\"\"\""
      ],
      "metadata": {
        "id": "Drs-gpnjqi5A"
      },
      "execution_count": null,
      "outputs": []
    }
  ]
}